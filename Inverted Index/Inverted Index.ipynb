{
 "cells": [
  {
   "cell_type": "markdown",
   "id": "2ede0257",
   "metadata": {},
   "source": [
    "### 2. Build Inverted Index and process Boolean Queries."
   ]
  },
  {
   "cell_type": "code",
   "execution_count": null,
   "id": "4d352439",
   "metadata": {},
   "outputs": [],
   "source": [
    "def InvertedIndex(word, Documents):\n",
    "    posting = []\n",
    "\n",
    "    for i in range(len(Documents)):\n",
    "        if word in Documents[i].lower().split():\n",
    "            posting += [i+1]\n",
    "\n",
    "    return posting\n",
    "\n",
    "def NOT(posting, Documents):\n",
    "    return [i+1 for i in range(len(Documents)) if i+1 not in posting]\n",
    "\n",
    "def search(word, postings, Documents):\n",
    "    if word.startswith('!'):\n",
    "        return NOT(postings.get(word[1:],[]),Documents)\n",
    "    else:\n",
    "        return postings.get(word,[])\n",
    "\n",
    "def printDocs(posting, DocNames):\n",
    "    j=1\n",
    "    for i in posting:\n",
    "        print(f\"{j}) {DocNames[i-1]}\")\n",
    "        j += 1\n",
    "\n",
    "def intersection(list1, list2):\n",
    "    return [value for value in list1 if value in list2]\n",
    "\n",
    "def union(list1, list2):\n",
    "    for i in list2:\n",
    "        if i not in list1:\n",
    "            list1.append(i) \n",
    "    list1.sort()\n",
    "    return list1"
   ]
  },
  {
   "cell_type": "code",
   "execution_count": null,
   "id": "5d503376",
   "metadata": {},
   "outputs": [],
   "source": [
    "DocNames = [\"Data\", \"Doc\", \"Information\", \"News\"]\n",
    "Documents = []\n",
    "\n",
    "for i in DocNames:\n",
    "    try:\n",
    "        with open(f'{i}.txt') as file:\n",
    "            Documents += file.readlines()\n",
    "    except Exception as e:\n",
    "        print(\"There is a Problem\", str(e))\n",
    "\n",
    "words = []\n",
    "for i in Documents:\n",
    "    for j in i.lower().strip().split():\n",
    "        if j not in words:\n",
    "            words.append(j)\n",
    "words.sort()\n",
    "\n",
    "postings = {}\n",
    "\n",
    "for i in words:\n",
    "    postings[i] = InvertedIndex(i,Documents)"
   ]
  },
  {
   "cell_type": "code",
   "execution_count": null,
   "id": "35cb1b9f",
   "metadata": {},
   "outputs": [],
   "source": [
    "query = input(\"Enter your query: \").strip()\n",
    "\n",
    "ors = query.split('|')\n",
    "\n",
    "ands = [i.split('&') for i in ors]\n",
    "\n",
    "for i in range(len(ands)):\n",
    "    for j in range(len(ands[i])):\n",
    "        ands[i][j] = ands[i][j].strip()\n",
    "\n",
    "ors = []\n",
    "\n",
    "for i in ands:\n",
    "    ans = [i+1 for i in range(len(Documents))]\n",
    "    for j in i:\n",
    "        ans = intersection(ans, search(j, postings, Documents))\n",
    "    ors.append(ans)\n",
    "\n",
    "ans = []\n",
    "\n",
    "for i in ors:\n",
    "    ans = union(ans, i)\n",
    "\n",
    "print(f\"The Relevant Documents for the given query '{query}': \")\n",
    "printDocs(ans,DocNames)"
   ]
  },
  {
   "cell_type": "markdown",
   "id": "513cb293",
   "metadata": {},
   "source": [
    "#### Output:"
   ]
  },
  {
   "cell_type": "code",
   "execution_count": 6,
   "id": "3f2c8402",
   "metadata": {},
   "outputs": [
    {
     "name": "stdout",
     "output_type": "stream",
     "text": [
      "The Inverted Index is:\n"
     ]
    },
    {
     "data": {
      "text/plain": [
       "{'approach': [3],\n",
       " 'breakthrough': [1],\n",
       " 'drug': [1, 2],\n",
       " 'for': [1, 3, 4],\n",
       " 'hopes': [4],\n",
       " 'new': [2, 3, 4],\n",
       " 'of': [3],\n",
       " 'patients': [4],\n",
       " 'schizophrenia': [1, 2, 3, 4],\n",
       " 'treatment': [3]}"
      ]
     },
     "metadata": {},
     "output_type": "display_data"
    },
    {
     "name": "stdout",
     "output_type": "stream",
     "text": [
      "\n",
      "Enter your query: schizophrenia & drug | !of\n",
      "\n",
      "The Relevant Documents for the given query 'schizophrenia & drug | !of': \n",
      "1) Data\n",
      "2) Doc\n",
      "3) News\n"
     ]
    }
   ],
   "source": []
  }
 ],
 "metadata": {
  "kernelspec": {
   "display_name": "Python 3 (ipykernel)",
   "language": "python",
   "name": "python3"
  },
  "language_info": {
   "codemirror_mode": {
    "name": "ipython",
    "version": 3
   },
   "file_extension": ".py",
   "mimetype": "text/x-python",
   "name": "python",
   "nbconvert_exporter": "python",
   "pygments_lexer": "ipython3",
   "version": "3.8.10"
  }
 },
 "nbformat": 4,
 "nbformat_minor": 5
}
