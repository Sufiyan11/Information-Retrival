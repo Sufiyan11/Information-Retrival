{
 "cells": [
  {
   "cell_type": "markdown",
   "id": "e5b2042d",
   "metadata": {},
   "source": [
    "### 9. Implement Vector Space Model with various functions."
   ]
  },
  {
   "cell_type": "code",
   "execution_count": null,
   "id": "6cc33087",
   "metadata": {},
   "outputs": [],
   "source": [
    "import numpy as np\n",
    "import collections as c\n",
    "import copy as cp\n",
    "\n",
    "def cossim(a, b):\n",
    "    a = np.array(a)\n",
    "    b = np.array(b)\n",
    "    num = 0\n",
    "    for i in range(len(a)):\n",
    "        num += a[i] * b[i]\n",
    "    den = (sum(a*a) * sum(b*b)) ** 0.5\n",
    "    return num / den\n",
    "\n",
    "s = ['Doc1.txt','Doc2.txt' ,'Doc3.txt']\n",
    "d = cp.deepcopy(s)\n",
    "x = []\n",
    "\n",
    "for i in s:\n",
    "    f = open(i,'r').read().split()\n",
    "    x.append(f)\n",
    "    \n",
    "y = sorted(set(sum(x,[])))\n",
    "tcm=[]\n",
    "\n",
    "for i in range(len(s)):\n",
    "    m = []\n",
    "    freq = c.Counter(x[i])\n",
    "    for j in y:\n",
    "        if j in x[i]: m.append(freq[j])\n",
    "        else: m.append(0)\n",
    "    tcm.append(m)\n",
    "\n",
    "tf=[]\n",
    "for i in tcm:\n",
    "    temp = []\n",
    "    for j in i:\n",
    "        if j != 0: temp.append(round(1+np.log(j), 2))\n",
    "        else: temp.append(0)\n",
    "    tf.append(temp)\n",
    "\n",
    "idf = []\n",
    "for i in y:\n",
    "    n = 0\n",
    "    for j in range(len(d)):\n",
    "        if i in x[j]:\n",
    "            n += 1\n",
    "    if n != 0: idf.append(round(np.log(len(d) / n), 2))\n",
    "    else: idf.append(0)\n",
    "\n",
    "tf_idf = []\n",
    "\n",
    "for i in tf:\n",
    "    temp = []\n",
    "    for j in range(len(i)):\n",
    "        tfidf = i[j] * idf[j]\n",
    "        temp.append(tfidf)\n",
    "    tf_idf.append(temp)"
   ]
  },
  {
   "cell_type": "code",
   "execution_count": null,
   "id": "421bd3aa",
   "metadata": {},
   "outputs": [],
   "source": [
    "query = input(\"Enter the query: \")\n",
    "\n",
    "freq = c.Counter(query.split())\n",
    "q = []\n",
    "\n",
    "for i in y:\n",
    "    if i in query: q.append(freq[i])\n",
    "    else: q.append(0)\n",
    "        \n",
    "vals = []\n",
    "for i in range(len(s)):\n",
    "    vals.append(cossim(tf_idf[i],q))\n",
    "sort_vals=sorted(vals,reverse=True)\n",
    "\n",
    "ranked_order = []\n",
    "for i in sort_vals:\n",
    "    ind = vals.index(i)\n",
    "    vals.pop(ind)\n",
    "    ranked_order.append(s[ind])\n",
    "    s.pop(ind)\n",
    "    \n",
    "print('\\nTF-IDF values for the Doucments:')\n",
    "print(tf_idf)\n",
    "\n",
    "print(\"\\nDocuments Ranked Order:\")\n",
    "print(ranked_order)"
   ]
  },
  {
   "cell_type": "markdown",
   "id": "fe05b187",
   "metadata": {},
   "source": [
    "#### Output:"
   ]
  },
  {
   "cell_type": "code",
   "execution_count": 10,
   "id": "ecea4f8c",
   "metadata": {
    "scrolled": true
   },
   "outputs": [
    {
     "name": "stdout",
     "output_type": "stream",
     "text": [
      "Enter the query: tea me\n",
      "\n",
      "TF-IDF values for the Doucments:\n",
      "[[0.0, 0.0, 0.0, 0.6929, 1.859, 0.0], [0.0, 0.0, 0.41, 0.6929, 0.0, 0.41], [0.0, 0.0, 0.861, 0.0, 0.0, 0.41]]\n",
      "\n",
      "Documents Ranked Order:\n",
      "['Doc2.txt', 'Doc3.txt', 'Doc1.txt']\n"
     ]
    }
   ],
   "source": []
  }
 ],
 "metadata": {
  "kernelspec": {
   "display_name": "Python 3 (ipykernel)",
   "language": "python",
   "name": "python3"
  },
  "language_info": {
   "codemirror_mode": {
    "name": "ipython",
    "version": 3
   },
   "file_extension": ".py",
   "mimetype": "text/x-python",
   "name": "python",
   "nbconvert_exporter": "python",
   "pygments_lexer": "ipython3",
   "version": "3.8.10"
  }
 },
 "nbformat": 4,
 "nbformat_minor": 5
}
