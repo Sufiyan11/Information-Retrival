{
 "cells": [
  {
   "cell_type": "markdown",
   "id": "201ea55d",
   "metadata": {},
   "source": [
    "### 10. Implement Naïve Bayes Classification Algorithm."
   ]
  },
  {
   "cell_type": "code",
   "execution_count": null,
   "id": "3cd6a1b1",
   "metadata": {},
   "outputs": [],
   "source": [
    "import numpy as np\n",
    "import pandas as pd\n",
    "\n",
    "def makecounts(l):\n",
    "    q = list(set(l))\n",
    "    c = []\n",
    "    for i in q:\n",
    "        c.append(l.count(i))\n",
    "    return [q,c]\n",
    "\n",
    "data = pd.read_csv(\"golf_df.csv\")\n",
    "col = list(data.columns)\n",
    "\n",
    "arr = []\n",
    "for i in col:\n",
    "    l = list(data[i])\n",
    "    arr.append(makecounts(l))"
   ]
  },
  {
   "cell_type": "code",
   "execution_count": null,
   "id": "893d76a7",
   "metadata": {},
   "outputs": [],
   "source": [
    "inp = []\n",
    "\n",
    "for i in range(len(col)-1):\n",
    "    print('Select appropriate option for',col[i])\n",
    "    for j in range(len(arr[i][0])):\n",
    "        print(j+1, arr[i][0][j], sep='-->')\n",
    "    x = int(input(\"Enter option: \"))\n",
    "    inp.append(arr[i][0][x-1])\n",
    "print('\\n\\n')\n",
    "\n",
    "data.set_index(['Play']).sort_index()\n",
    "\n",
    "Po = []\n",
    "for i in range(len(arr[-1][1])):\n",
    "    Po.append(arr[-1][1][i] / sum(arr[-1][1]))\n",
    "    \n",
    "fin=[]\n",
    "for i in range(len(Po)):\n",
    "    l = []\n",
    "    for j in range(len(inp)):\n",
    "        des = list(data[col[-1]])\n",
    "        ref = list(data[col[j]])\n",
    "        c = 0\n",
    "        for k in range(len(des)):\n",
    "            if ref[k] == inp[j] and des[k] == arr[-1][0][i]:\n",
    "                c += 1\n",
    "        l.append(c)\n",
    "    fin.append(l)\n",
    "    fin[i] = np.prod(np.array(fin[i]) / arr[-1][1][i]) * Po[i]\n",
    "    \n",
    "print(f'''For given input = {inp}\\n\n",
    "          Decision for the value: {col[-1]} is \n",
    "          {arr[-1][0][fin.index(max(fin))]}.''')"
   ]
  },
  {
   "cell_type": "markdown",
   "id": "bdadc727",
   "metadata": {},
   "source": [
    "#### Output:"
   ]
  },
  {
   "cell_type": "code",
   "execution_count": 3,
   "id": "dc694e8a",
   "metadata": {},
   "outputs": [
    {
     "name": "stdout",
     "output_type": "stream",
     "text": [
      "Select appropriate option for Outlook\n",
      "1-->sunny\n",
      "2-->rainy\n",
      "3-->overcast\n",
      "Enter option: 1\n",
      "Select appropriate option for Temperature\n",
      "1-->cool\n",
      "2-->hot\n",
      "3-->mild\n",
      "Enter option: 2\n",
      "Select appropriate option for Humidity\n",
      "1-->high\n",
      "2-->normal\n",
      "Enter option: 1\n",
      "Select appropriate option for Windy\n",
      "1-->False\n",
      "2-->True\n",
      "Enter option: 1\n",
      "\n",
      "\n",
      "\n",
      "For given input = ['sunny', 'hot', 'high', False]\n",
      "Decision for the value: Play is no.\n"
     ]
    }
   ],
   "source": []
  }
 ],
 "metadata": {
  "kernelspec": {
   "display_name": "Python 3 (ipykernel)",
   "language": "python",
   "name": "python3"
  },
  "language_info": {
   "codemirror_mode": {
    "name": "ipython",
    "version": 3
   },
   "file_extension": ".py",
   "mimetype": "text/x-python",
   "name": "python",
   "nbconvert_exporter": "python",
   "pygments_lexer": "ipython3",
   "version": "3.8.10"
  }
 },
 "nbformat": 4,
 "nbformat_minor": 5
}
