{
 "cells": [
  {
   "cell_type": "markdown",
   "id": "ea2ddd39",
   "metadata": {},
   "source": [
    "### 5. Implement Skip Pointers."
   ]
  },
  {
   "cell_type": "code",
   "execution_count": null,
   "id": "cb3ea900",
   "metadata": {},
   "outputs": [],
   "source": [
    "import math\n",
    "\n",
    "def skip_pointers(l):\n",
    "    k = len(l)//(int(math.sqrt(len(l))))\n",
    "    m = dict()\n",
    "    x = 0\n",
    "    while((x+k) < len(l)):\n",
    "        m[x] = x + k\n",
    "        x += k\n",
    "        \n",
    "    return m\n",
    "\n",
    "def cmp(i, j, l1, l2, m1, m2):\n",
    "    if i in m1:\n",
    "        if l1[m1[i]] < l2[j]:\n",
    "            i = m1[i]\n",
    "        else:\n",
    "            i = i + 1\n",
    "        j = j + 1\n",
    "    elif j in m2:\n",
    "        if l2[m2[j]] < l1[i]:\n",
    "            j = m2[j]\n",
    "        else:\n",
    "            j = j + 1\n",
    "        i = i + 1\n",
    "    elif i not in m1:\n",
    "        i += 1\n",
    "    else: \n",
    "        j += 1\n",
    "        \n",
    "    return [i, j]\n",
    "\n",
    "def skip_eval(l1,l2):\n",
    "    m1 = skip_pointers(l1)\n",
    "    m2 = skip_pointers(l2)\n",
    "    \n",
    "    print(\"Skip Pointers for postings1 :\", m1)\n",
    "    print(\"Skip Pointers for postings2 :\", m2)\n",
    "    \n",
    "    i, j = 0, 0\n",
    "    \n",
    "    result = []\n",
    "    \n",
    "    while i < len(l1) and j < len(l2):\n",
    "        if l1[i] == l2[j]:\n",
    "            result.append(l1[i])\n",
    "            i, j = cmp(i, j, l1, l2, m1, m2)\n",
    "        elif l1[i] < l2[j]:\n",
    "            if i in m1:\n",
    "                if l1[m1[i]] < l2[j]:\n",
    "                    i = m1[i]\n",
    "                else:\n",
    "                    i += 1\n",
    "            else:\n",
    "                i = i + 1\n",
    "        else:\n",
    "            if j in m2:\n",
    "                if l2[m2[j]] < l1[i]:\n",
    "                    j = m2[j]\n",
    "                else:\n",
    "                    j += 1\n",
    "            else: \n",
    "                j = j + 1\n",
    "    return result"
   ]
  },
  {
   "cell_type": "code",
   "execution_count": null,
   "id": "d164d201",
   "metadata": {},
   "outputs": [],
   "source": [
    "postings1 = [1,5,7,14,15,17,20,24,27,34,37,38,39,42,45,46,49,51]\n",
    "postings2 = [3,5,7,17,22,23,25,29,34,37,39,45,46]\n",
    "\n",
    "result = skip_eval(postings1, postings2)\n",
    "\n",
    "print(\"The Resulting Documents:\", result)"
   ]
  },
  {
   "cell_type": "markdown",
   "id": "d8ee5ee2",
   "metadata": {},
   "source": [
    "#### Output:"
   ]
  },
  {
   "cell_type": "code",
   "execution_count": 9,
   "id": "b49e8b58",
   "metadata": {},
   "outputs": [
    {
     "name": "stdout",
     "output_type": "stream",
     "text": [
      "Skip Pointers for D1 : {0: 4, 4: 8, 8: 12, 12: 16}\n",
      "Skip Pointers for D2 : {0: 4, 4: 8, 8: 12}\n",
      "The Resulting Documents: [5, 7, 17, 34, 37, 39, 45, 46]\n"
     ]
    }
   ],
   "source": []
  }
 ],
 "metadata": {
  "kernelspec": {
   "display_name": "Python 3 (ipykernel)",
   "language": "python",
   "name": "python3"
  },
  "language_info": {
   "codemirror_mode": {
    "name": "ipython",
    "version": 3
   },
   "file_extension": ".py",
   "mimetype": "text/x-python",
   "name": "python",
   "nbconvert_exporter": "python",
   "pygments_lexer": "ipython3",
   "version": "3.8.10"
  }
 },
 "nbformat": 4,
 "nbformat_minor": 5
}
