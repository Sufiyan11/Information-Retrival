{
 "cells": [
  {
   "cell_type": "markdown",
   "id": "9907d0c1",
   "metadata": {},
   "source": [
    "### 7. Implement BSBI Algorithm."
   ]
  },
  {
   "cell_type": "code",
   "execution_count": null,
   "id": "4c2ca096",
   "metadata": {},
   "outputs": [],
   "source": [
    "def modify(data):\n",
    "    l = []\n",
    "    \n",
    "    for i in data:\n",
    "        if i not in ['[', ']', ',', '\\n', ' ']:\n",
    "            l.append(int(i))\n",
    "            \n",
    "    return l\n",
    "\n",
    "def store(f, f1, k):\n",
    "    d = {}\n",
    "    \n",
    "    for i in f1.readlines():\n",
    "        data1 = i.split(':')\n",
    "        d[data1[0]] = modify(data1[1])\n",
    "        \n",
    "    for j in f:\n",
    "        if j in d.keys() and k not in d[j]:\n",
    "            d[j].append(k)\n",
    "        else:\n",
    "            d[j] = [k]\n",
    "            \n",
    "    f1.close()\n",
    "    f1 = open(\"temp.txt\",\"w\")\n",
    "    \n",
    "    for k in d:\n",
    "        f1.writelines(str(k)+':'+str(d[k])+'\\n')"
   ]
  },
  {
   "cell_type": "code",
   "execution_count": null,
   "id": "e94d92d0",
   "metadata": {},
   "outputs": [],
   "source": [
    "f1 = open(\"temp.txt\", \"w\")\n",
    "i = 1\n",
    "\n",
    "while(1):\n",
    "    name = input(\"Enter name of the file: \")\n",
    "    f = open(name).read().split()\n",
    "    exact_terms = list(set(f))\n",
    "    \n",
    "    if(i == 1):\n",
    "        for j in exact_terms:\n",
    "            f1.write(str(j)+':'+str([1])+'\\n')\n",
    "        f1.close()\n",
    "    else:\n",
    "        f1.close()\n",
    "        f1 = open(\"temp.txt\", \"r\")\n",
    "        store(f, f1, i)\n",
    "        \n",
    "    contin = input(\"Do you wish to continue (yes/no): \")\n",
    "    i += 1\n",
    "    \n",
    "    if(contin.lower() == 'yes'):\n",
    "        continue\n",
    "    else:\n",
    "        break\n",
    "        \n",
    "f1 = open('temp.txt','r')\n",
    "print(f\"The Resulting Index:\\n\\n{f1.read()}\")"
   ]
  },
  {
   "cell_type": "markdown",
   "id": "b1e42ffa",
   "metadata": {},
   "source": [
    "#### Output."
   ]
  },
  {
   "cell_type": "code",
   "execution_count": 18,
   "id": "ebc1b90e",
   "metadata": {},
   "outputs": [
    {
     "name": "stdout",
     "output_type": "stream",
     "text": [
      "Enter name of the file: Data.txt\n",
      "Do you wish to continue (yes/no): yes\n",
      "Enter name of the file: Doc.txt\n",
      "Do you wish to continue (yes/no): yes\n",
      "Enter name of the file: Information.txt\n",
      "Do you wish to continue (yes/no): yes\n",
      "Enter name of the file: News.txt\n",
      "Do you wish to continue (yes/no): no\n",
      "\n",
      "The Resulting Index:\n",
      "\n",
      "schizophrenia:[1, 2, 3, 4]\n",
      "drug:[1, 2]\n",
      "for:[1, 3, 4]\n",
      "breakthrough:[1]\n",
      "new:[2, 3, 4]\n",
      "approach:[3]\n",
      "treatment:[3]\n",
      "of:[3]\n",
      "hopes:[4]\n",
      "patients:[4]\n"
     ]
    }
   ],
   "source": []
  }
 ],
 "metadata": {
  "kernelspec": {
   "display_name": "Python 3 (ipykernel)",
   "language": "python",
   "name": "python3"
  },
  "language_info": {
   "codemirror_mode": {
    "name": "ipython",
    "version": 3
   },
   "file_extension": ".py",
   "mimetype": "text/x-python",
   "name": "python",
   "nbconvert_exporter": "python",
   "pygments_lexer": "ipython3",
   "version": "3.8.10"
  }
 },
 "nbformat": 4,
 "nbformat_minor": 5
}
