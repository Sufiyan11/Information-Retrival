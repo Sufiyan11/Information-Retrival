{
 "cells": [
  {
   "cell_type": "markdown",
   "metadata": {
    "id": "i6NkUaOl6_PX"
   },
   "source": [
    "### 1. Build Term-Document Incidence Matrix and process Boolean Queries."
   ]
  },
  {
   "cell_type": "code",
   "execution_count": null,
   "metadata": {
    "id": "nv3so243npqF"
   },
   "outputs": [],
   "source": [
    "import numpy as np\n",
    "import pandas as pd\n",
    "\n",
    "def NOT(arr):\n",
    "    return np.array([0 if i else 1 for i in arr])\n",
    "\n",
    "def search(word, dictionary):\n",
    "    if word.startswith('!'): return NOT(dictionary.get(word[1:]))\n",
    "    else: return dictionary.get(word)\n",
    "\n",
    "def printDocs(incidence, DocNames):\n",
    "    j=1\n",
    "    for i in range(len(incidence)):\n",
    "        if incidence[i] == 1:\n",
    "            print(f\"{j}) {DocNames[i]}\")\n",
    "            j += 1"
   ]
  },
  {
   "cell_type": "code",
   "execution_count": null,
   "metadata": {
    "colab": {
     "base_uri": "https://localhost:8080/",
     "height": 398
    },
    "id": "DFQ6Og5EoTTI",
    "outputId": "6a1c8792-7d32-4934-f42b-12222e15d814"
   },
   "outputs": [],
   "source": [
    "DocNames = [\"Data\", \"Doc\", \"Information\", \"News\"]\n",
    "Documents = []\n",
    "\n",
    "for i in DocNames:\n",
    "    try:\n",
    "        with open(f'{i}.txt') as file:\n",
    "            Documents += file.readlines()\n",
    "    except Exception as e:\n",
    "        print(\"There is a Problem\", str(e))\n",
    "\n",
    "N = len(Documents)\n",
    "\n",
    "words = []\n",
    "for i in Documents:\n",
    "    for j in i.strip().split():\n",
    "        if j not in words:\n",
    "            words.append(j)\n",
    "words.sort()\n",
    "\n",
    "TDIM = np.zeros([len(words), len(Documents)], dtype=int)\n",
    "\n",
    "for i in range(len(words)):\n",
    "    for j in range(len(Documents)):\n",
    "        if words[i] in Documents[j]:\n",
    "            TDIM[i][j] = 1\n",
    "\n",
    "dataframe = {\"Terms\": words}\n",
    "for i in range(N):\n",
    "    dataframe[f\"{DocNames[i]}\"] = TDIM[:, i]\n",
    "\n",
    "dictionary = {}\n",
    "for i in range(len(words)):\n",
    "    dictionary[words[i]] = TDIM[i]"
   ]
  },
  {
   "cell_type": "code",
   "execution_count": null,
   "metadata": {
    "colab": {
     "base_uri": "https://localhost:8080/"
    },
    "id": "L68osyHPomkY",
    "outputId": "32cfb7c0-e157-42cb-c440-8e49ec6fe5b0",
    "scrolled": true
   },
   "outputs": [],
   "source": [
    "query = input(\"Enter your query: \").strip()\n",
    "\n",
    "ors = query.split('|')\n",
    "\n",
    "ands = [i.split('&') for i in ors]\n",
    "for i in range(len(ands)):\n",
    "    for j in range(len(ands[i])):\n",
    "        ands[i][j] = ands[i][j].strip()\n",
    "\n",
    "ors = []\n",
    "for i in ands:\n",
    "    ans = [1 for i in range(N)]\n",
    "    for j in i:\n",
    "        ans = ans & search(j,dictionary)\n",
    "    ors.append(ans)\n",
    "\n",
    "incidence = [0 for i in range(N)]\n",
    "for i in ors:\n",
    "    incidence = incidence | i\n",
    "\n",
    "print(f\"\\nThe Relevant Documents for the given query '{query}': \")\n",
    "printDocs(incidence, DocNames)"
   ]
  },
  {
   "cell_type": "markdown",
   "metadata": {},
   "source": [
    "#### Output:"
   ]
  },
  {
   "cell_type": "code",
   "execution_count": 14,
   "metadata": {},
   "outputs": [
    {
     "name": "stdout",
     "output_type": "stream",
     "text": [
      "The Term-Document Incidence Matrix is:\n"
     ]
    },
    {
     "data": {
      "text/html": [
       "<div>\n",
       "<style scoped>\n",
       "    .dataframe tbody tr th:only-of-type {\n",
       "        vertical-align: middle;\n",
       "    }\n",
       "\n",
       "    .dataframe tbody tr th {\n",
       "        vertical-align: top;\n",
       "    }\n",
       "\n",
       "    .dataframe thead th {\n",
       "        text-align: right;\n",
       "    }\n",
       "</style>\n",
       "<table border=\"1\" class=\"dataframe\">\n",
       "  <thead>\n",
       "    <tr style=\"text-align: right;\">\n",
       "      <th></th>\n",
       "      <th>Terms</th>\n",
       "      <th>Data</th>\n",
       "      <th>Doc</th>\n",
       "      <th>Information</th>\n",
       "      <th>News</th>\n",
       "    </tr>\n",
       "  </thead>\n",
       "  <tbody>\n",
       "    <tr>\n",
       "      <th>0</th>\n",
       "      <td>approach</td>\n",
       "      <td>0</td>\n",
       "      <td>0</td>\n",
       "      <td>1</td>\n",
       "      <td>0</td>\n",
       "    </tr>\n",
       "    <tr>\n",
       "      <th>1</th>\n",
       "      <td>breakthrough</td>\n",
       "      <td>1</td>\n",
       "      <td>0</td>\n",
       "      <td>0</td>\n",
       "      <td>0</td>\n",
       "    </tr>\n",
       "    <tr>\n",
       "      <th>2</th>\n",
       "      <td>drug</td>\n",
       "      <td>1</td>\n",
       "      <td>1</td>\n",
       "      <td>0</td>\n",
       "      <td>0</td>\n",
       "    </tr>\n",
       "    <tr>\n",
       "      <th>3</th>\n",
       "      <td>for</td>\n",
       "      <td>1</td>\n",
       "      <td>0</td>\n",
       "      <td>1</td>\n",
       "      <td>1</td>\n",
       "    </tr>\n",
       "    <tr>\n",
       "      <th>4</th>\n",
       "      <td>hopes</td>\n",
       "      <td>0</td>\n",
       "      <td>0</td>\n",
       "      <td>0</td>\n",
       "      <td>1</td>\n",
       "    </tr>\n",
       "    <tr>\n",
       "      <th>5</th>\n",
       "      <td>new</td>\n",
       "      <td>0</td>\n",
       "      <td>1</td>\n",
       "      <td>1</td>\n",
       "      <td>1</td>\n",
       "    </tr>\n",
       "    <tr>\n",
       "      <th>6</th>\n",
       "      <td>of</td>\n",
       "      <td>0</td>\n",
       "      <td>0</td>\n",
       "      <td>1</td>\n",
       "      <td>0</td>\n",
       "    </tr>\n",
       "    <tr>\n",
       "      <th>7</th>\n",
       "      <td>patients</td>\n",
       "      <td>0</td>\n",
       "      <td>0</td>\n",
       "      <td>0</td>\n",
       "      <td>1</td>\n",
       "    </tr>\n",
       "    <tr>\n",
       "      <th>8</th>\n",
       "      <td>schizophrenia</td>\n",
       "      <td>1</td>\n",
       "      <td>1</td>\n",
       "      <td>1</td>\n",
       "      <td>1</td>\n",
       "    </tr>\n",
       "    <tr>\n",
       "      <th>9</th>\n",
       "      <td>treatment</td>\n",
       "      <td>0</td>\n",
       "      <td>0</td>\n",
       "      <td>1</td>\n",
       "      <td>0</td>\n",
       "    </tr>\n",
       "  </tbody>\n",
       "</table>\n",
       "</div>"
      ],
      "text/plain": [
       "           Terms  Data  Doc  Information  News\n",
       "0       approach     0    0            1     0\n",
       "1   breakthrough     1    0            0     0\n",
       "2           drug     1    1            0     0\n",
       "3            for     1    0            1     1\n",
       "4          hopes     0    0            0     1\n",
       "5            new     0    1            1     1\n",
       "6             of     0    0            1     0\n",
       "7       patients     0    0            0     1\n",
       "8  schizophrenia     1    1            1     1\n",
       "9      treatment     0    0            1     0"
      ]
     },
     "metadata": {},
     "output_type": "display_data"
    },
    {
     "name": "stdout",
     "output_type": "stream",
     "text": [
      "Enter your query: schizophrenia & drug | !of\n",
      "\n",
      "The Relevant Documents for the given query 'schizophrenia & drug | !of': \n",
      "1) Data\n",
      "2) Doc\n",
      "3) News\n"
     ]
    }
   ],
   "source": []
  }
 ],
 "metadata": {
  "colab": {
   "provenance": []
  },
  "kernelspec": {
   "display_name": "Python 3 (ipykernel)",
   "language": "python",
   "name": "python3"
  },
  "language_info": {
   "codemirror_mode": {
    "name": "ipython",
    "version": 3
   },
   "file_extension": ".py",
   "mimetype": "text/x-python",
   "name": "python",
   "nbconvert_exporter": "python",
   "pygments_lexer": "ipython3",
   "version": "3.8.10"
  }
 },
 "nbformat": 4,
 "nbformat_minor": 1
}
