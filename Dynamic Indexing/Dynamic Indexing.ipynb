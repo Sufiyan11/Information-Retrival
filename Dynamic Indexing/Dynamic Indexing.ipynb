{
 "cells": [
  {
   "cell_type": "markdown",
   "id": "5142ce25",
   "metadata": {},
   "source": [
    "### 13. Dynamic Indexing."
   ]
  },
  {
   "cell_type": "code",
   "execution_count": null,
   "id": "09f4eb49",
   "metadata": {},
   "outputs": [],
   "source": [
    "import heapq\n",
    "import re\n",
    "\n",
    "def GETNEXTTOKEN():\n",
    "    global token_stream\n",
    "    if len(token_stream) > 0:\n",
    "        next_token = token_stream.pop(0)\n",
    "        return next_token\n",
    "    else: return None\n",
    "    \n",
    "def LMERGEADDTOKEN(ind, Z, token, n=10):\n",
    "    Z[0].add(token)\n",
    "    if len(Z[0]) == n:\n",
    "        i = 0\n",
    "        while True:\n",
    "            if i < len(ind):\n",
    "                if ind[i] != -1:\n",
    "                    Z.append(Z[i].union(ind[i]))\n",
    "                    ind[i] = -1\n",
    "                else: ind[i] = Z[i]\n",
    "            else:\n",
    "                ind.append(Z[i])\n",
    "                break\n",
    "        Z = [set()]\n",
    "        \n",
    "def LOGARITHMICMERGE(docs):\n",
    "    Z = [set()]\n",
    "    ind = []\n",
    "    while True:\n",
    "        token = GETNEXTTOKEN()\n",
    "        if token is None: break\n",
    "        post_list = []\n",
    "        for j in range(len(docs)):\n",
    "            if token in docs[j]:\n",
    "                post_list.append(j+1)\n",
    "        token = (token, tuple(post_list))\n",
    "        LMERGEADDTOKEN(ind, Z, token)\n",
    "        \n",
    "    return(heapq.merge(*ind))"
   ]
  },
  {
   "cell_type": "code",
   "execution_count": null,
   "id": "76a7bc3f",
   "metadata": {},
   "outputs": [],
   "source": [
    "docs = []\n",
    "terms = set()\n",
    "l = ['Data.txt', 'Doc.txt', 'Information.txt', 'News.txt']\n",
    "\n",
    "for i in l:\n",
    "    file = open(i,'r').read().lower()\n",
    "    content = re.sub(r\"[^a-zA-Z0-9]\",\" \",file).split()\n",
    "    terms.update(content)\n",
    "    docs.append(set(content))\n",
    "    \n",
    "token_stream = list(terms)\n",
    "\n",
    "print(\"The Constructed Index : \")\n",
    "for i in LOGARITHMICMERGE(docs):\n",
    "    print(i)"
   ]
  },
  {
   "cell_type": "markdown",
   "id": "f862397d",
   "metadata": {},
   "source": [
    "#### Output:"
   ]
  },
  {
   "cell_type": "code",
   "execution_count": 7,
   "id": "49e84322",
   "metadata": {},
   "outputs": [
    {
     "name": "stdout",
     "output_type": "stream",
     "text": [
      "The Constructed Index : \n",
      "('breakthrough', (1,))\n",
      "('drug', (1, 2))\n",
      "('schizophrenia', (1, 2, 3, 4))\n",
      "('new', (2, 3, 4))\n",
      "('treatment', (3,))\n",
      "('for', (1, 3, 4))\n",
      "('of', (3,))\n",
      "('approach', (3,))\n",
      "('hopes', (4,))\n",
      "('patients', (4,))\n"
     ]
    }
   ],
   "source": []
  }
 ],
 "metadata": {
  "kernelspec": {
   "display_name": "Python 3 (ipykernel)",
   "language": "python",
   "name": "python3"
  },
  "language_info": {
   "codemirror_mode": {
    "name": "ipython",
    "version": 3
   },
   "file_extension": ".py",
   "mimetype": "text/x-python",
   "name": "python",
   "nbconvert_exporter": "python",
   "pygments_lexer": "ipython3",
   "version": "3.8.10"
  }
 },
 "nbformat": 4,
 "nbformat_minor": 5
}
