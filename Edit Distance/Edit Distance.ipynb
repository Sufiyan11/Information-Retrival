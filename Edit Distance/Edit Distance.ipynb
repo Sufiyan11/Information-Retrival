{
 "cells": [
  {
   "cell_type": "markdown",
   "metadata": {
    "id": "PXOrnJIBi81b"
   },
   "source": [
    "### 6. Correct Spellings in the Query using Edit Distance."
   ]
  },
  {
   "cell_type": "code",
   "execution_count": null,
   "metadata": {
    "id": "OswDN22yi3Y1"
   },
   "outputs": [],
   "source": [
    "import numpy as np\n",
    "\n",
    "def EditDistance(word1, word2):\n",
    "    if word1 == word2: return 0\n",
    "\n",
    "    n1 = len(word1)\n",
    "    n2 = len(word2)\n",
    "\n",
    "    if n2 == 0: return n1\n",
    "    if n2 == 0: return n2\n",
    "\n",
    "    mat = np.zeros((n1+1,n2+1), dtype=int)\n",
    "\n",
    "    for i in range(1, n1+1): mat[i,0] = i\n",
    "    for i in range(1, n2+1): mat[0,i] = i\n",
    "\n",
    "    for i in range(1, n1+1):\n",
    "        for j in range(1, n2+1):\n",
    "            if word1[i-1] == word2[j-1]:\n",
    "                a = mat[i-1, j-1]\n",
    "            else:\n",
    "                a = mat[i-1, j-1] + 1\n",
    "            b = mat[i-1, j] + 1\n",
    "            c = mat[i, j-1] + 1\n",
    "\n",
    "            mat[i,j] = min(a, b, c)\n",
    "\n",
    "    return mat[n1,n2]\n",
    "\n",
    "def correct_spelling(input_word, candidate_words):\n",
    "    min_distance = float('inf')\n",
    "    corrected_word = None\n",
    "\n",
    "    for candidate in candidate_words:\n",
    "        distance = EditDistance(input_word, candidate)\n",
    "\n",
    "        if distance < min_distance:\n",
    "            min_distance = distance\n",
    "            corrected_word = candidate\n",
    "\n",
    "    return corrected_word"
   ]
  },
  {
   "cell_type": "code",
   "execution_count": null,
   "metadata": {
    "id": "SJE_2B_T3hCH"
   },
   "outputs": [],
   "source": [
    "text = open(\"Artificial_Intelligence.txt\", \"r\").readline()\n",
    "\n",
    "tokens = []\n",
    "\n",
    "for i in text.lower().split():\n",
    "    tokens += [i]"
   ]
  },
  {
   "cell_type": "code",
   "execution_count": null,
   "metadata": {
    "colab": {
     "base_uri": "https://localhost:8080/"
    },
    "id": "owXYDY8O7Zsm",
    "outputId": "186f1519-218f-4676-98a3-2d52a5b4a4de"
   },
   "outputs": [],
   "source": [
    "query = input(\"Enter your query: \").lower().split()\n",
    "\n",
    "corrected_query = \"\"\n",
    "\n",
    "for i in range(len(query)):\n",
    "    if query[i] not in tokens:\n",
    "        corrected_query += \" \" + correct_spelling(query[i], tokens)\n",
    "    else:\n",
    "        corrected_query += \" \" + query[i]\n",
    "\n",
    "print(f\"Corrected query: {corrected_query}\")"
   ]
  },
  {
   "cell_type": "markdown",
   "metadata": {},
   "source": [
    "#### Output:"
   ]
  },
  {
   "cell_type": "code",
   "execution_count": 4,
   "metadata": {},
   "outputs": [
    {
     "name": "stdout",
     "output_type": "stream",
     "text": [
      "Enter your query: Artifisial Intelligense is a rapidly advansing feild\n",
      "\n",
      "Corrected query:  artificial intelligence is a rapidly advancing field\n"
     ]
    }
   ],
   "source": []
  }
 ],
 "metadata": {
  "colab": {
   "provenance": []
  },
  "kernelspec": {
   "display_name": "Python 3 (ipykernel)",
   "language": "python",
   "name": "python3"
  },
  "language_info": {
   "codemirror_mode": {
    "name": "ipython",
    "version": 3
   },
   "file_extension": ".py",
   "mimetype": "text/x-python",
   "name": "python",
   "nbconvert_exporter": "python",
   "pygments_lexer": "ipython3",
   "version": "3.8.10"
  }
 },
 "nbformat": 4,
 "nbformat_minor": 1
}
