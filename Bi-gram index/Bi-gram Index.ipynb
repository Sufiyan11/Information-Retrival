{
 "cells": [
  {
   "cell_type": "markdown",
   "id": "4beefacb",
   "metadata": {},
   "source": [
    "### 4. Build Bi-gram Index and process Wildcard Queries."
   ]
  },
  {
   "cell_type": "code",
   "execution_count": null,
   "id": "5ef3f64b",
   "metadata": {},
   "outputs": [],
   "source": [
    "from collections import OrderedDict\n",
    "\n",
    "def bigram_index(Documents):\n",
    "    bigram_words = dict()\n",
    "    for doc in range(len(Documents)):\n",
    "        for word in Documents[doc]:\n",
    "            n_word = '$' + word + '$'\n",
    "            l = [n_word[k:k+2] for k in range(len(n_word)-1)]\n",
    "            for i in l:\n",
    "                if i in bigram_words:\n",
    "                    if word in bigram_words[i]:\n",
    "                        bigram_words[i][word] = list(bigram_words[i][word])\n",
    "                        bigram_words[i][word].append(doc)\n",
    "                        bigram_words[i][word] = set(bigram_words[i][word])\n",
    "                    else:\n",
    "                        bigram_words[i][word] = [doc]\n",
    "                else:\n",
    "                    bigram_words[i] = {word:[doc]}\n",
    "    return bigram_words\n",
    "\n",
    "def intersection(list1, list2):\n",
    "    return [value for value in list1 if value in list2]\n",
    "\n",
    "def eval_bigram(query,bigram_words):\n",
    "    words1=[]\n",
    "    for word in query:\n",
    "        n_word = '$' + word + '$'\n",
    "        l = [n_word[k:k+2] for k in range(len(n_word)-1)]\n",
    "        for i in l:\n",
    "            if '*' in i: \n",
    "                l.remove(i)\n",
    "        words1 += l\n",
    "    words1 = list(set(words1))\n",
    "    words2 = []\n",
    "    for i in words1:\n",
    "        if i in bigram_words:\n",
    "            words2.append(list(bigram_words[i].keys()))\n",
    "    result = words2[0]\n",
    "    \n",
    "    for i in range(1,len(words2)):\n",
    "        result=intersection(words2[i],result)\n",
    "        \n",
    "    return result\n",
    "\n",
    "def printResult(result):\n",
    "    j = 1\n",
    "    for i in result:\n",
    "        print(f\"{j}) {i}\")\n",
    "        j += 1"
   ]
  },
  {
   "cell_type": "code",
   "execution_count": null,
   "id": "beed6068",
   "metadata": {},
   "outputs": [],
   "source": [
    "DocNames = [\"Data.txt\", \"Doc.txt\", \"Information.txt\", \"News.txt\"]\n",
    "Documents = []\n",
    "\n",
    "for i in DocNames:\n",
    "    try:\n",
    "        with open(f'{i}') as file:\n",
    "            Documents += file.readlines()\n",
    "    except Exception as e:\n",
    "        print(\"There is a Problem\", str(e))\n",
    "        \n",
    "for i in range(len(Documents)):\n",
    "    Documents[i] = Documents[i].split()"
   ]
  },
  {
   "cell_type": "code",
   "execution_count": null,
   "id": "9392ce29",
   "metadata": {},
   "outputs": [],
   "source": [
    "query = input(\"Enter a query : \")\n",
    "\n",
    "bigram_words = bigram_index(Documents)\n",
    "\n",
    "result = eval_bigram(query.split() ,bigram_words )\n",
    "\n",
    "if(len(result) == 0): \n",
    "    print(\"There are no such words like: \",query)\n",
    "else: \n",
    "    print(f'The words relevant to {query} are:')\n",
    "    printResult(result)"
   ]
  },
  {
   "cell_type": "markdown",
   "id": "d2feb24f",
   "metadata": {},
   "source": [
    "#### Output:"
   ]
  },
  {
   "cell_type": "code",
   "execution_count": 35,
   "id": "772cd033",
   "metadata": {},
   "outputs": [
    {
     "name": "stdout",
     "output_type": "stream",
     "text": [
      "Enter a query : schiz*\n",
      "The words relevant to schiz* are:\n",
      "1) schizophrenia\n"
     ]
    }
   ],
   "source": []
  }
 ],
 "metadata": {
  "kernelspec": {
   "display_name": "Python 3 (ipykernel)",
   "language": "python",
   "name": "python3"
  },
  "language_info": {
   "codemirror_mode": {
    "name": "ipython",
    "version": 3
   },
   "file_extension": ".py",
   "mimetype": "text/x-python",
   "name": "python",
   "nbconvert_exporter": "python",
   "pygments_lexer": "ipython3",
   "version": "3.8.10"
  }
 },
 "nbformat": 4,
 "nbformat_minor": 5
}
