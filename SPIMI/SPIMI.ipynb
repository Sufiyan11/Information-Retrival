{
 "cells": [
  {
   "cell_type": "markdown",
   "id": "69a02009",
   "metadata": {},
   "source": [
    "### 8. Implement SPIMI Algorithm."
   ]
  },
  {
   "cell_type": "code",
   "execution_count": null,
   "id": "23de0314",
   "metadata": {},
   "outputs": [],
   "source": [
    "def spimi(f, exact_terms, n):\n",
    "    for j in f:\n",
    "        if j not in exact_terms:\n",
    "            exact_terms[j] = [n]\n",
    "        else:\n",
    "            temp = exact_terms[j]\n",
    "            \n",
    "            if n not in temp:\n",
    "                temp.append(n)\n",
    "                \n",
    "            exact_terms[j] = temp\n",
    "            \n",
    "    return exact_terms\n",
    "\n",
    "def store(name, exact):\n",
    "    f = open(name, 'a')\n",
    "    \n",
    "    for i in exact:\n",
    "        f.writelines([i, ' : ', str(exact[i]), '\\n'])"
   ]
  },
  {
   "cell_type": "code",
   "execution_count": null,
   "id": "af1231e7",
   "metadata": {},
   "outputs": [],
   "source": [
    "exact_terms = {}\n",
    "\n",
    "n = 1\n",
    "\n",
    "while(1):\n",
    "    name = input(\"Enter name of the file: \")\n",
    "    \n",
    "    f = open(name).read().split()\n",
    "    \n",
    "    exact_terms=spimi(f, exact_terms, n)\n",
    "    \n",
    "    contin = input(\"Do you wish to continue: \")\n",
    "    \n",
    "    n += 1\n",
    "    \n",
    "    if(contin.lower() == 'yes'):\n",
    "        continue\n",
    "        \n",
    "    else:\n",
    "        break\n",
    "    \n",
    "sorted_keys = sorted(exact_terms.keys())\n",
    "\n",
    "exact = {}\n",
    "\n",
    "for i in sorted_keys:\n",
    "    exact[i] = exact_terms[i]\n",
    "    \n",
    "name = input(\"Enter file name to store the resulting index: \")\n",
    "\n",
    "store(name, exact)\n",
    "\n",
    "f = open(name, \"r\")\n",
    "\n",
    "print(f\"The Resulting Index:\\n{f.read()}\")"
   ]
  },
  {
   "cell_type": "markdown",
   "id": "a63128f6",
   "metadata": {},
   "source": [
    "#### Output:"
   ]
  },
  {
   "cell_type": "code",
   "execution_count": 11,
   "id": "a81f37c4",
   "metadata": {},
   "outputs": [
    {
     "name": "stdout",
     "output_type": "stream",
     "text": [
      "Enter name of the file: Data.txt\n",
      "Do you wish to continue: yes\n",
      "Enter name of the file: Doc.txt\n",
      "Do you wish to continue: yes\n",
      "Enter name of the file: Information.txt\n",
      "Do you wish to continue: yes\n",
      "Enter name of the file: News.txt\n",
      "Do you wish to continue: no\n",
      "\n",
      "Enter file name to store the resulting index: temp.txt\n",
      "\n",
      "The Resulting Index:\n",
      "\n",
      "approach : [3]\n",
      "breakthrough : [1]\n",
      "drug : [1, 2]\n",
      "for : [1, 3, 4]\n",
      "hopes : [4]\n",
      "new : [2, 3, 4]\n",
      "of : [3]\n",
      "patients : [4]\n",
      "schizophrenia : [1, 2, 3, 4]\n",
      "treatment : [3]\n"
     ]
    }
   ],
   "source": []
  }
 ],
 "metadata": {
  "kernelspec": {
   "display_name": "Python 3 (ipykernel)",
   "language": "python",
   "name": "python3"
  },
  "language_info": {
   "codemirror_mode": {
    "name": "ipython",
    "version": 3
   },
   "file_extension": ".py",
   "mimetype": "text/x-python",
   "name": "python",
   "nbconvert_exporter": "python",
   "pygments_lexer": "ipython3",
   "version": "3.8.10"
  }
 },
 "nbformat": 4,
 "nbformat_minor": 5
}
