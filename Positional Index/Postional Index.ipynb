{
 "cells": [
  {
   "cell_type": "markdown",
   "id": "534aa7d8",
   "metadata": {},
   "source": [
    "### 3. Build Positional Index and process Phrase Queries:"
   ]
  },
  {
   "cell_type": "code",
   "execution_count": null,
   "id": "4a0b1f8f",
   "metadata": {},
   "outputs": [],
   "source": [
    "def intersection(list1, list2):\n",
    "    return [value for value in list1 if value in list2]\n",
    "\n",
    "def printDocs(DocNames):\n",
    "    j = 1\n",
    "    for i in DocNames:\n",
    "        print(f\"{j}) {i}\")\n",
    "        j += 1\n",
    "\n",
    "DocNames = [\"Data.txt\", \"Doc.txt\", \"Information.txt\", \"News.txt\"]\n",
    "Documents = []\n",
    "\n",
    "for i in DocNames:\n",
    "    try:\n",
    "        with open(f'{i}') as file:\n",
    "            Documents += file.readlines()\n",
    "    except Exception as e:\n",
    "        print(\"There is a Problem\", str(e))\n",
    "\n",
    "words = []\n",
    "for i in Documents:\n",
    "    for j in i.lower().strip().split():\n",
    "        if j not in words:\n",
    "            words.append(j)\n",
    "words.sort()\n",
    "\n",
    "for i in range(len(Documents)):\n",
    "    Documents[i] = Documents[i].split()\n",
    "    \n",
    "postings = {}\n",
    "\n",
    "for i in words:\n",
    "    m = []\n",
    "    for j in range(len(DocNames)):\n",
    "        l = []\n",
    "        if i in Documents[j]:\n",
    "            l.append(DocNames[j])\n",
    "            index = []\n",
    "            for k in range(len(Documents[j])):\n",
    "                if i == Documents[j][k]:\n",
    "                    index.append(k)\n",
    "            m.append([l[0],index])    \n",
    "    postings[i] = m"
   ]
  },
  {
   "cell_type": "code",
   "execution_count": null,
   "id": "68c70cae",
   "metadata": {},
   "outputs": [],
   "source": [
    "query = input(\"Enter a phrase query:\")\n",
    "\n",
    "terms = []\n",
    "for i in query.split():\n",
    "    terms.append(postings.get(i))\n",
    "\n",
    "Docs = []\n",
    "DocsIdx = []\n",
    "for i in terms:\n",
    "    Docs1 = []\n",
    "    DocsIdx1 = []\n",
    "    for j in i:\n",
    "        Docs1.append(j[0])\n",
    "        DocsIdx1.append(j[1])\n",
    "    Docs.append(Docs1)\n",
    "    DocsIdx.append(DocsIdx1)\n",
    "\n",
    "ands = [i for i in DocNames]\n",
    "for i in Docs:\n",
    "    ands = intersection(ands, i)\n",
    "\n",
    "result=[]\n",
    "for i in ands:\n",
    "    index1 = Docs[0].index(i)\n",
    "    index2 = Docs[1].index(i)\n",
    "    for j in DocsIdx[0][index1]:\n",
    "        for k in DocsIdx[1][index2]:\n",
    "            if j + 1 == k:\n",
    "                result.append(i)\n",
    "result.sort()\n",
    "\n",
    "print(\"The Relevant Documents for the given phrase query: \",query)\n",
    "printDocs(result)"
   ]
  },
  {
   "cell_type": "markdown",
   "id": "184310bd",
   "metadata": {},
   "source": [
    "#### Output:"
   ]
  },
  {
   "cell_type": "code",
   "execution_count": 4,
   "id": "9410a1e0",
   "metadata": {},
   "outputs": [
    {
     "name": "stdout",
     "output_type": "stream",
     "text": [
      "Enter a phrase query:drug for\n",
      "The Relevant Documents for the given phrase query:  drug for\n",
      "1) Data.txt\n"
     ]
    }
   ],
   "source": []
  }
 ],
 "metadata": {
  "kernelspec": {
   "display_name": "Python 3 (ipykernel)",
   "language": "python",
   "name": "python3"
  },
  "language_info": {
   "codemirror_mode": {
    "name": "ipython",
    "version": 3
   },
   "file_extension": ".py",
   "mimetype": "text/x-python",
   "name": "python",
   "nbconvert_exporter": "python",
   "pygments_lexer": "ipython3",
   "version": "3.8.10"
  }
 },
 "nbformat": 4,
 "nbformat_minor": 5
}
